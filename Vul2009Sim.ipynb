{
 "metadata": {
  "name": "",
  "signature": "sha256:a4e470f9d5e58eb9f60cee980e0c1494c5780e9e984d699e7b4d7d74951069e6"
 },
 "nbformat": 3,
 "nbformat_minor": 0,
 "worksheets": [
  {
   "cells": [
    {
     "cell_type": "markdown",
     "metadata": {},
     "source": [
      "\n",
      "$$\n",
      "\\begin{align}\n",
      "x_t&=x_{t-1} + v_t, \\\\\n",
      "v_t&=\\lambda v_{t-1} - kx_{t-1} + w_t,\\\\\n",
      "w_t&= \\mathcal{N}(0,\\sigma_w)\\\\\n",
      "\\end{align}\n",
      "\\\\\n",
      "$$\n",
      "\n",
      "If we make the explicit assumption that the variance of x and v do not change over an update step then we can calculate the variances as.\n",
      "\n",
      "$$\n",
      "\\\\\n",
      "\\begin{align}\n",
      "\\sigma_x=&\\sqrt{(1+\\lambda)\\sigma^2_w/k(\\lambda-1)(2\\lambda-k-2)}\\\\\n",
      "\\sigma_x=&\\sqrt{2\\sigma^2_w/k(\\lambda-1)(2\\lambda-k+2)}\n",
      "\\end {align}\n",
      "$$\n"
     ]
    },
    {
     "cell_type": "code",
     "collapsed": false,
     "input": [
      "#simulation of dynamics\n",
      "\n"
     ],
     "language": "python",
     "metadata": {},
     "outputs": [],
     "prompt_number": 33
    },
    {
     "cell_type": "code",
     "collapsed": false,
     "input": [],
     "language": "python",
     "metadata": {},
     "outputs": [],
     "prompt_number": 9
    },
    {
     "cell_type": "code",
     "collapsed": false,
     "input": [],
     "language": "python",
     "metadata": {},
     "outputs": [],
     "prompt_number": 9
    },
    {
     "cell_type": "code",
     "collapsed": false,
     "input": [],
     "language": "python",
     "metadata": {},
     "outputs": [],
     "prompt_number": 9
    }
   ],
   "metadata": {}
  }
 ]
}